{
 "cells": [
  {
   "cell_type": "markdown",
   "metadata": {},
   "source": [
    "**Overview**\n",
    "\n",
    "This project analyzes historical aviation accident data to identify the safest aircraft models. The aim is to identify aircraft models with the lowest risk of fatalities, providing data-driven recommendations that will guide the purchase of safe and reliable aircraft for both commercial and private operations by cleaning, preparing, and visualizing the dataset provided."
   ]
  },
  {
   "cell_type": "markdown",
   "metadata": {},
   "source": [
    "**Business Understanding**\n",
    "\n",
    "The company is launching a new aviation division to diversify into charter, cargo, and executive travel services. To ensure a successful and sustainable entry into this high-stakes industry, we must proactively manage significant risks, including stringent safety standards and the potential for severe financial losses from accidents. This analysis directly supports this goal by answering key questions which includes:\n",
    "\n",
    "    1. Which specific aircraft models and manufacturers have the lowest historical accident rates when normalized for usage\n",
    "    2. What are the most common causes of incidents?\n",
    "    3. How to minimize safety risks and insurance costs?\n",
    "    \n",
    "The outcome will be a set of data-driven, actionable recommendations—including a prioritized list of low-risk aircraft for procurement and insights to shape safety protocols with the ultimate objective of reducing incident risk, lowering insurance costs, and ensuring the division's long-term safety and profitability."
   ]
  },
  {
   "cell_type": "markdown",
   "metadata": {},
   "source": [
    "**Data Understanding**\n",
    "\n",
    "\n",
    "This analysis utilizes the \"Aviation Accident Data\" dataset from Kaggle, which provides 23,967 records of global aviation accidents with features including aircraft date, type, operator, registration, fatalities,location, country, year and accident category. The data is fundamentally suitable for our risk assessment project as these features enable direct analysis of accident severity and frequency by aircraft model and operator. However, the dataset presents significant limitationsfor example 'registration', 'operator', 'fatality' and 'location' fields which contain substantial missing values. Also, 'type' column suffers from inconsistent naming conventions that require extensive cleaning. \n",
    "\n",
    "Most critically, the absence of operational exposure data such as total flight hours or fleet size for each aircraft model—prevents the calculation of true accident rates. This limitation means our initial analysis must rely on absolute counts rather than normalized rates, which could skew risk assessments for commonly used aircraft until supplementary data can be integrated."
   ]
  },
  {
   "cell_type": "markdown",
   "metadata": {},
   "source": [
    "**Data Preperation**\n",
    "\n",
    "This section details the process of cleaning and transforming the raw dataset into a reliable foundation for analysis. Each step is justified by the specific data quality issues identified during the Data Understanding phase. I'll start by importing the relevant libraries to enable my codes run after:"
   ]
  },
  {
   "cell_type": "code",
   "execution_count": 7,
   "metadata": {},
   "outputs": [
    {
     "data": {
      "text/html": [
       "<div>\n",
       "<style scoped>\n",
       "    .dataframe tbody tr th:only-of-type {\n",
       "        vertical-align: middle;\n",
       "    }\n",
       "\n",
       "    .dataframe tbody tr th {\n",
       "        vertical-align: top;\n",
       "    }\n",
       "\n",
       "    .dataframe thead th {\n",
       "        text-align: right;\n",
       "    }\n",
       "</style>\n",
       "<table border=\"1\" class=\"dataframe\">\n",
       "  <thead>\n",
       "    <tr style=\"text-align: right;\">\n",
       "      <th></th>\n",
       "      <th>date</th>\n",
       "      <th>type</th>\n",
       "      <th>registration</th>\n",
       "      <th>operator</th>\n",
       "      <th>fatalities</th>\n",
       "      <th>location</th>\n",
       "      <th>country</th>\n",
       "      <th>cat</th>\n",
       "      <th>year</th>\n",
       "    </tr>\n",
       "  </thead>\n",
       "  <tbody>\n",
       "    <tr>\n",
       "      <th>0</th>\n",
       "      <td>date unk.</td>\n",
       "      <td>Antonov An-12B</td>\n",
       "      <td>T-1206</td>\n",
       "      <td>Indonesian AF</td>\n",
       "      <td>NaN</td>\n",
       "      <td>NaN</td>\n",
       "      <td>Unknown country</td>\n",
       "      <td>U1</td>\n",
       "      <td>unknown</td>\n",
       "    </tr>\n",
       "    <tr>\n",
       "      <th>1</th>\n",
       "      <td>date unk.</td>\n",
       "      <td>Antonov An-12B</td>\n",
       "      <td>T-1204</td>\n",
       "      <td>Indonesian AF</td>\n",
       "      <td>NaN</td>\n",
       "      <td>NaN</td>\n",
       "      <td>Unknown country</td>\n",
       "      <td>U1</td>\n",
       "      <td>unknown</td>\n",
       "    </tr>\n",
       "    <tr>\n",
       "      <th>2</th>\n",
       "      <td>date unk.</td>\n",
       "      <td>Antonov An-12B</td>\n",
       "      <td>T-1201</td>\n",
       "      <td>Indonesian AF</td>\n",
       "      <td>NaN</td>\n",
       "      <td>NaN</td>\n",
       "      <td>Unknown country</td>\n",
       "      <td>U1</td>\n",
       "      <td>unknown</td>\n",
       "    </tr>\n",
       "    <tr>\n",
       "      <th>3</th>\n",
       "      <td>date unk.</td>\n",
       "      <td>Antonov An-12BK</td>\n",
       "      <td>NaN</td>\n",
       "      <td>Soviet AF</td>\n",
       "      <td>NaN</td>\n",
       "      <td>Tiksi Airport (IKS)</td>\n",
       "      <td>Russia</td>\n",
       "      <td>A1</td>\n",
       "      <td>unknown</td>\n",
       "    </tr>\n",
       "    <tr>\n",
       "      <th>4</th>\n",
       "      <td>date unk.</td>\n",
       "      <td>Antonov An-12BP</td>\n",
       "      <td>CCCP-11815</td>\n",
       "      <td>Soviet AF</td>\n",
       "      <td>0</td>\n",
       "      <td>Massawa Airport ...</td>\n",
       "      <td>Eritrea</td>\n",
       "      <td>A1</td>\n",
       "      <td>unknown</td>\n",
       "    </tr>\n",
       "  </tbody>\n",
       "</table>\n",
       "</div>"
      ],
      "text/plain": [
       "        date             type registration       operator fatalities  \\\n",
       "0  date unk.   Antonov An-12B       T-1206  Indonesian AF        NaN   \n",
       "1  date unk.   Antonov An-12B       T-1204  Indonesian AF        NaN   \n",
       "2  date unk.   Antonov An-12B       T-1201  Indonesian AF        NaN   \n",
       "3  date unk.  Antonov An-12BK          NaN      Soviet AF        NaN   \n",
       "4  date unk.  Antonov An-12BP   CCCP-11815      Soviet AF          0   \n",
       "\n",
       "              location          country cat     year  \n",
       "0                  NaN  Unknown country  U1  unknown  \n",
       "1                  NaN  Unknown country  U1  unknown  \n",
       "2                  NaN  Unknown country  U1  unknown  \n",
       "3  Tiksi Airport (IKS)           Russia  A1  unknown  \n",
       "4  Massawa Airport ...          Eritrea  A1  unknown  "
      ]
     },
     "execution_count": 7,
     "metadata": {},
     "output_type": "execute_result"
    }
   ],
   "source": [
    "#importing relevant libraries \n",
    "\n",
    "import pandas as pd\n",
    "import numpy as np\n",
    "import matplotlib.pyplot as plt\n",
    "import seaborn as sns\n",
    "%matplotlib inline\n",
    "\n",
    "#loading data and checking the first5 rows\n",
    "\n",
    "df = pd.read_csv(\"aviation-accident-data-2023-05-16.csv\")\n",
    "df.head()\n"
   ]
  },
  {
   "cell_type": "markdown",
   "metadata": {},
   "source": [
    "I have checked the first rows and seen the type of data in the columns and rows. \n",
    "Next, I'll check for the general information about the dataframe and to know which columns have missing values and the data type"
   ]
  },
  {
   "cell_type": "code",
   "execution_count": 8,
   "metadata": {},
   "outputs": [
    {
     "name": "stdout",
     "output_type": "stream",
     "text": [
      "<class 'pandas.core.frame.DataFrame'>\n",
      "RangeIndex: 23967 entries, 0 to 23966\n",
      "Data columns (total 9 columns):\n",
      " #   Column        Non-Null Count  Dtype \n",
      "---  ------        --------------  ----- \n",
      " 0   date          23967 non-null  object\n",
      " 1   type          23967 non-null  object\n",
      " 2   registration  22419 non-null  object\n",
      " 3   operator      23963 non-null  object\n",
      " 4   fatalities    20029 non-null  object\n",
      " 5   location      23019 non-null  object\n",
      " 6   country       23967 non-null  object\n",
      " 7   cat           23967 non-null  object\n",
      " 8   year          23967 non-null  object\n",
      "dtypes: object(9)\n",
      "memory usage: 1.6+ MB\n"
     ]
    }
   ],
   "source": [
    "#checking dataset info including non-null values\n",
    "df.info()"
   ]
  },
  {
   "cell_type": "markdown",
   "metadata": {},
   "source": [
    "From the above information, all the data is of type object and has four columns with missing values. \n",
    "I'll now go ahead and check for the unique values."
   ]
  },
  {
   "cell_type": "code",
   "execution_count": 9,
   "metadata": {},
   "outputs": [
    {
     "data": {
      "text/plain": [
       "Douglas C-47A (DC-3)         1916\n",
       "Douglas C-47 (DC-3)           669\n",
       "Douglas C-47B (DC-3)          592\n",
       "Curtiss C-46A                 564\n",
       "Junkers Ju-52/3m              471\n",
       "Antonov An-2R                 391\n",
       "Curtiss C-46D                 344\n",
       "Douglas Dakota III (DC-3)     262\n",
       "DHC-6 Twin Otter 300          258\n",
       "Cessna 208B Grand Caravan     247\n",
       "Name: type, dtype: int64"
      ]
     },
     "execution_count": 9,
     "metadata": {},
     "output_type": "execute_result"
    }
   ],
   "source": [
    "# Unique values in key columns \n",
    "\n",
    "df['type'].unique()[:10]\n",
    "df['cat'].unique()\n",
    "df['country'].unique()[:10]\n",
    "df['type'].value_counts().head(10)\n",
    "\n"
   ]
  },
  {
   "cell_type": "markdown",
   "metadata": {},
   "source": [
    "Upto this point, I'll make 'date' filterable by year/month. Also 'year' should be integer numbers for analysis."
   ]
  },
  {
   "cell_type": "code",
   "execution_count": 10,
   "metadata": {},
   "outputs": [],
   "source": [
    "# Convert 'date' to datetime \n",
    "df['date'] = pd.to_datetime(df['date'], errors='coerce', format='%d-%b-%Y')  \n",
    "\n",
    "# Convert 'year' to integer\n",
    "df['year'] = pd.to_numeric(df['year'], errors='coerce')"
   ]
  },
  {
   "cell_type": "markdown",
   "metadata": {},
   "source": [
    "\n",
    "Equally, I'll replace the missing values for 'fatalities' column then convert them into integers because it has unique values like \"+\" and \"'\" because from running the head, i could see that it had missing values recorded as NaN."
   ]
  },
  {
   "cell_type": "code",
   "execution_count": 11,
   "metadata": {},
   "outputs": [
    {
     "data": {
      "text/plain": [
       "array([  0,  14,   1,   4,   2,   5,   6,   3,   7,   8,  16,  12,   9,\n",
       "        15,  10,  11,  13,  17,  19,  20,  18,  25,  29,  23,  24,  36,\n",
       "        26,  22,  27,  21,  35,  32,  31,  34,  28,  30,  41,  59,  45,\n",
       "        44,  37,  39,  43,  53,  50,  52,  40,  33,  48,  55,  38,  80,\n",
       "        46,  58,  51,  56,  87, 129,  42,  47,  66,  74,  70,  62,  67,\n",
       "        79,  61,  99,  64,  65,  68,  54,  63,  78,  72,  83,  77,  95,\n",
       "       111, 107, 130, 113,  84,  94,  81,  86,  97, 101, 118,  85,  49,\n",
       "        57, 121, 117, 133, 124,  98,  82, 126,  88, 102, 123, 155, 100,\n",
       "        96,  90,  92, 112, 109,  75, 162,  69,  91, 104, 115, 122, 156,\n",
       "       174,  60, 176, 108, 106, 346, 191, 138, 188,  76, 154,  73, 335,\n",
       "       248, 131, 213, 183, 257, 128, 146, 166, 301,  89, 110, 180, 137,\n",
       "       132, 119, 269, 181, 148, 329, 200, 520, 256, 167, 103, 159, 143,\n",
       "       290, 144, 170, 223, 261, 141, 157, 116, 264, 160,  71, 189, 230,\n",
       "       312, 125, 228, 234, 229, 217, 169, 145, 225, 275, 105, 114, 152,\n",
       "       168, 158, 127, 239, 298, 150, 224])"
      ]
     },
     "execution_count": 11,
     "metadata": {},
     "output_type": "execute_result"
    }
   ],
   "source": [
    "#Convert fatalities to numbers, treat missing as 0 fatalities\n",
    "\n",
    "df['fatalities'] = pd.to_numeric(df['fatalities'], errors='coerce')\n",
    "df['fatalities'].fillna(0, inplace=True)\n",
    "df[\"fatalities\"] = df[\"fatalities\"].astype(int)\n",
    "df[\"fatalities\"].unique()"
   ]
  },
  {
   "cell_type": "markdown",
   "metadata": {},
   "source": [
    "Noting that i did not fill all missing columns, I'll do just that:"
   ]
  },
  {
   "cell_type": "code",
   "execution_count": 12,
   "metadata": {},
   "outputs": [
    {
     "name": "stdout",
     "output_type": "stream",
     "text": [
      "<class 'pandas.core.frame.DataFrame'>\n",
      "RangeIndex: 23967 entries, 0 to 23966\n",
      "Data columns (total 9 columns):\n",
      " #   Column        Non-Null Count  Dtype         \n",
      "---  ------        --------------  -----         \n",
      " 0   date          23408 non-null  datetime64[ns]\n",
      " 1   type          23967 non-null  object        \n",
      " 2   registration  23967 non-null  object        \n",
      " 3   operator      23967 non-null  object        \n",
      " 4   fatalities    23967 non-null  int32         \n",
      " 5   location      23967 non-null  object        \n",
      " 6   country       23967 non-null  object        \n",
      " 7   cat           23967 non-null  object        \n",
      " 8   year          23906 non-null  float64       \n",
      "dtypes: datetime64[ns](1), float64(1), int32(1), object(6)\n",
      "memory usage: 1.6+ MB\n"
     ]
    }
   ],
   "source": [
    "# Fill missing categorical with 'Unknown'\n",
    "df['registration'].fillna('Unknown', inplace=True)\n",
    "df['operator'].fillna('Unknown', inplace=True)\n",
    "df['location'].fillna('Unknown', inplace=True)\n",
    "df.info()"
   ]
  },
  {
   "cell_type": "markdown",
   "metadata": {},
   "source": [
    "I'll now do standardization to avoid duplicates in grouping (e.g., by type).\n",
    "I'll also drop rows with critical values missing"
   ]
  },
  {
   "cell_type": "code",
   "execution_count": 13,
   "metadata": {},
   "outputs": [
    {
     "name": "stdout",
     "output_type": "stream",
     "text": [
      "<class 'pandas.core.frame.DataFrame'>\n",
      "Int64Index: 23408 entries, 61 to 23966\n",
      "Data columns (total 9 columns):\n",
      " #   Column        Non-Null Count  Dtype         \n",
      "---  ------        --------------  -----         \n",
      " 0   date          23408 non-null  datetime64[ns]\n",
      " 1   type          23408 non-null  object        \n",
      " 2   registration  23408 non-null  object        \n",
      " 3   operator      23408 non-null  object        \n",
      " 4   fatalities    23408 non-null  int32         \n",
      " 5   location      23408 non-null  object        \n",
      " 6   country       23408 non-null  object        \n",
      " 7   cat           23408 non-null  object        \n",
      " 8   year          23408 non-null  float64       \n",
      "dtypes: datetime64[ns](1), float64(1), int32(1), object(6)\n",
      "memory usage: 1.7+ MB\n"
     ]
    }
   ],
   "source": [
    "# Standardize aircraft names\n",
    "df['type'] = df['type'].str.upper().str.strip()\n",
    "\n",
    "# Fix common naming issues\n",
    "df['type'] = df['type'].replace({\n",
    "    'C-172': 'CESSNA 172',\n",
    "    'B737': 'BOEING 737', \n",
    "    'B744': 'BOEING 747',\n",
    "    'A320': 'AIRBUS A320'\n",
    "})\n",
    "\n",
    "# Drop rows with critical missing (e.g., no date or type)\n",
    "df.dropna(subset=['date', 'type'], inplace=True)\n",
    "df.info()"
   ]
  },
  {
   "cell_type": "code",
   "execution_count": 14,
   "metadata": {},
   "outputs": [
    {
     "data": {
      "text/html": [
       "<div>\n",
       "<style scoped>\n",
       "    .dataframe tbody tr th:only-of-type {\n",
       "        vertical-align: middle;\n",
       "    }\n",
       "\n",
       "    .dataframe tbody tr th {\n",
       "        vertical-align: top;\n",
       "    }\n",
       "\n",
       "    .dataframe thead th {\n",
       "        text-align: right;\n",
       "    }\n",
       "</style>\n",
       "<table border=\"1\" class=\"dataframe\">\n",
       "  <thead>\n",
       "    <tr style=\"text-align: right;\">\n",
       "      <th></th>\n",
       "      <th>date</th>\n",
       "      <th>type</th>\n",
       "      <th>registration</th>\n",
       "      <th>operator</th>\n",
       "      <th>fatalities</th>\n",
       "      <th>location</th>\n",
       "      <th>country</th>\n",
       "      <th>cat</th>\n",
       "      <th>year</th>\n",
       "    </tr>\n",
       "  </thead>\n",
       "  <tbody>\n",
       "    <tr>\n",
       "      <th>61</th>\n",
       "      <td>1919-08-02</td>\n",
       "      <td>CAPRONI CA.48</td>\n",
       "      <td>Unknown</td>\n",
       "      <td>Caproni</td>\n",
       "      <td>14</td>\n",
       "      <td>Verona</td>\n",
       "      <td>Italy</td>\n",
       "      <td>A1</td>\n",
       "      <td>1919.0</td>\n",
       "    </tr>\n",
       "    <tr>\n",
       "      <th>62</th>\n",
       "      <td>1919-08-11</td>\n",
       "      <td>FELIXSTOWE FURY</td>\n",
       "      <td>N123</td>\n",
       "      <td>RAF</td>\n",
       "      <td>1</td>\n",
       "      <td>near Felixtowe RNAS</td>\n",
       "      <td>U.K.</td>\n",
       "      <td>A1</td>\n",
       "      <td>1919.0</td>\n",
       "    </tr>\n",
       "    <tr>\n",
       "      <th>63</th>\n",
       "      <td>1920-02-23</td>\n",
       "      <td>HANDLEY PAGE O/7</td>\n",
       "      <td>G-EANV</td>\n",
       "      <td>Handley Page Transport</td>\n",
       "      <td>0</td>\n",
       "      <td>Acadia Siding, C...</td>\n",
       "      <td>South Africa</td>\n",
       "      <td>A1</td>\n",
       "      <td>1920.0</td>\n",
       "    </tr>\n",
       "    <tr>\n",
       "      <th>64</th>\n",
       "      <td>1920-02-25</td>\n",
       "      <td>HANDLEY PAGE O/400</td>\n",
       "      <td>G-EAMC</td>\n",
       "      <td>Handley Page Transport</td>\n",
       "      <td>0</td>\n",
       "      <td>near El Shereik</td>\n",
       "      <td>Sudan</td>\n",
       "      <td>A1</td>\n",
       "      <td>1920.0</td>\n",
       "    </tr>\n",
       "    <tr>\n",
       "      <th>65</th>\n",
       "      <td>1920-06-30</td>\n",
       "      <td>HANDLEY PAGE O/400</td>\n",
       "      <td>G-EAKE</td>\n",
       "      <td>Handley Page Transport</td>\n",
       "      <td>0</td>\n",
       "      <td>ÃstanÃ¥</td>\n",
       "      <td>Sweden</td>\n",
       "      <td>A1</td>\n",
       "      <td>1920.0</td>\n",
       "    </tr>\n",
       "  </tbody>\n",
       "</table>\n",
       "</div>"
      ],
      "text/plain": [
       "         date                type registration                operator  \\\n",
       "61 1919-08-02       CAPRONI CA.48      Unknown                 Caproni   \n",
       "62 1919-08-11     FELIXSTOWE FURY         N123                     RAF   \n",
       "63 1920-02-23    HANDLEY PAGE O/7       G-EANV  Handley Page Transport   \n",
       "64 1920-02-25  HANDLEY PAGE O/400       G-EAMC  Handley Page Transport   \n",
       "65 1920-06-30  HANDLEY PAGE O/400       G-EAKE  Handley Page Transport   \n",
       "\n",
       "    fatalities             location       country cat    year  \n",
       "61          14               Verona         Italy  A1  1919.0  \n",
       "62           1  near Felixtowe RNAS          U.K.  A1  1919.0  \n",
       "63           0  Acadia Siding, C...  South Africa  A1  1920.0  \n",
       "64           0      near El Shereik         Sudan  A1  1920.0  \n",
       "65           0             ÃstanÃ¥        Sweden  A1  1920.0  "
      ]
     },
     "execution_count": 14,
     "metadata": {},
     "output_type": "execute_result"
    }
   ],
   "source": [
    "df.head()"
   ]
  },
  {
   "cell_type": "markdown",
   "metadata": {},
   "source": [
    "From the above dataframe info, there are no missing values at all.\n",
    "This is great because analysis and visualization is easier. I'll now add the relevant columns required for easy analysis and then save the cleaned data."
   ]
  },
  {
   "cell_type": "code",
   "execution_count": 15,
   "metadata": {},
   "outputs": [],
   "source": [
    "\n",
    "\n",
    "# 1. Accident count (each row = 1 accident)\n",
    "df['Accident_Count'] = 1\n",
    "\n",
    "# 2. Fatalities per accident (row-level, useful for averaging in Tableau)\n",
    "df['Fatalities_per_Accident'] = df['fatalities'] / df['Accident_Count']\n",
    "\n",
    "# 3. Operator-level safety stats\n",
    "operator_stats = df.groupby('operator').agg(\n",
    "    total_accidents=('Accident_Count', 'sum'),\n",
    "    total_fatalities=('fatalities', 'sum')\n",
    ").reset_index()\n",
    "\n",
    "operator_stats['Fatalities_per_Accident'] = (\n",
    "    operator_stats['total_fatalities'] / operator_stats['total_accidents']\n",
    ")\n",
    "\n",
    "# Merge operator-level stats back into main dataframe\n",
    "df = df.merge(\n",
    "    operator_stats[['operator', 'Fatalities_per_Accident']], \n",
    "    on='operator', \n",
    "    how='left', \n",
    "    suffixes=('', '_Operator')\n",
    ")\n",
    "\n",
    "# 4. Yearly summary (for line chart in Tableau)\n",
    "yearly_fatalities = df.groupby('year')['fatalities'].sum().reset_index()\n",
    "\n",
    "# --- Save outputs for Tableau ---\n",
    "df.to_csv(\"cleaned_with_metrics.csv\", index=False)               # Full dataset with helper columns\n",
    "operator_stats.to_csv(\"operator_summary.csv\", index=False)       # Operator-level summary\n",
    "yearly_fatalities.to_csv(\"yearly_fatalities.csv\", index=False)   # Yearly trend summary\n"
   ]
  },
  {
   "cell_type": "code",
   "execution_count": 16,
   "metadata": {},
   "outputs": [
    {
     "name": "stdout",
     "output_type": "stream",
     "text": [
      "<class 'pandas.core.frame.DataFrame'>\n",
      "Int64Index: 23408 entries, 0 to 23407\n",
      "Data columns (total 12 columns):\n",
      " #   Column                            Non-Null Count  Dtype         \n",
      "---  ------                            --------------  -----         \n",
      " 0   date                              23408 non-null  datetime64[ns]\n",
      " 1   type                              23408 non-null  object        \n",
      " 2   registration                      23408 non-null  object        \n",
      " 3   operator                          23408 non-null  object        \n",
      " 4   fatalities                        23408 non-null  int32         \n",
      " 5   location                          23408 non-null  object        \n",
      " 6   country                           23408 non-null  object        \n",
      " 7   cat                               23408 non-null  object        \n",
      " 8   year                              23408 non-null  float64       \n",
      " 9   Accident_Count                    23408 non-null  int64         \n",
      " 10  Fatalities_per_Accident           23408 non-null  float64       \n",
      " 11  Fatalities_per_Accident_Operator  23408 non-null  float64       \n",
      "dtypes: datetime64[ns](1), float64(3), int32(1), int64(1), object(6)\n",
      "memory usage: 2.2+ MB\n"
     ]
    }
   ],
   "source": [
    "df.info()"
   ]
  },
  {
   "cell_type": "code",
   "execution_count": 17,
   "metadata": {},
   "outputs": [],
   "source": [
    "df.to_csv(\"cleaned_df.csv\", index=False)"
   ]
  },
  {
   "cell_type": "markdown",
   "metadata": {},
   "source": [
    "**Data Analysis and Visualization**"
   ]
  },
  {
   "cell_type": "markdown",
   "metadata": {},
   "source": [
    "Let's first see the fatalities rate over the last 20 years:"
   ]
  },
  {
   "cell_type": "code",
   "execution_count": 85,
   "metadata": {},
   "outputs": [
    {
     "data": {
      "image/png": "[encoded data removed]",
      "text/plain": [
       "<Figure size 864x432 with 1 Axes>"
      ]
     },
     "metadata": {
      "needs_background": "light"
     },
     "output_type": "display_data"
    }
   ],
   "source": [
    "# Filter for the last 20 years (2003–2023)\n",
    "last_20_years = df[df['year'] >= 2003]\n",
    "\n",
    "# Group by year and sum fatalities\n",
    "yearly_fatalities = last_20_years.groupby('year')['fatalities'].sum()\n",
    "\n",
    "# Plot fatalities per year for the last 20 years\n",
    "plt.figure(figsize=(12, 6))\n",
    "plt.plot(yearly_fatalities.index, yearly_fatalities.values, \n",
    "         marker='o', linewidth=2, color='#E74C3C')\n",
    "plt.title('Aviation Fatalities Trend (2003–2023)', fontsize=16, fontweight='bold')\n",
    "plt.xlabel('Year', fontweight='bold')\n",
    "plt.ylabel('Total Fatalities', fontweight='bold')\n",
    "plt.grid(True, alpha=0.3)\n",
    "plt.xticks(rotation=45)\n",
    "plt.tight_layout()\n",
    "plt.show()\n"
   ]
  },
  {
   "cell_type": "markdown",
   "metadata": {},
   "source": [
    "Now we'll know which operators and aircraft historically had the least number of accidents and which caused the least fatalities and see visualizations."
   ]
  },
  {
   "cell_type": "code",
   "execution_count": 111,
   "metadata": {},
   "outputs": [
    {
     "data": {
      "image/png": "[encoded data removed]",
      "text/plain": [
       "<Figure size 720x360 with 1 Axes>"
      ]
     },
     "metadata": {
      "needs_background": "light"
     },
     "output_type": "display_data"
    },
    {
     "name": "stdout",
     "output_type": "stream",
     "text": [
      "🏆 TOP 5 SAFEST AIRCRAFT-OPERATOR COMBINATIONS\n",
      "======================================================================\n",
      "1. A.W. AW-650 ARGOSY 222 operated by BEA\n",
      "   • Accidents: 2\n",
      "   • Fatalities: 0\n",
      "   • Safety Score: 4.300\n",
      "\n",
      "2. A.W. AW.27 ENSIGN I operated by BOAC\n",
      "   • Accidents: 2\n",
      "   • Fatalities: 0\n",
      "   • Safety Score: 4.300\n",
      "\n",
      "3. AIRBUS A300 operated by American Airlines\n",
      "   • Accidents: 2\n",
      "   • Fatalities: 0\n",
      "   • Safety Score: 4.300\n",
      "\n",
      "4. AIRBUS A300B2-1C operated by Air Inter\n",
      "   • Accidents: 2\n",
      "   • Fatalities: 0\n",
      "   • Safety Score: 4.300\n",
      "\n",
      "5. AIRBUS A300B4 operated by Eastern Air Lines\n",
      "   • Accidents: 2\n",
      "   • Fatalities: 0\n",
      "   • Safety Score: 4.300\n",
      "\n"
     ]
    }
   ],
   "source": [
    "# Combined analysis - which specific aircraft operated by which airlines are safest\n",
    "aircraft_operator_safety = df.groupby(['type', 'operator']).agg({\n",
    "    'fatalities': ['count', 'sum']\n",
    "}).reset_index()\n",
    "\n",
    "# Flatten columns\n",
    "aircraft_operator_safety.columns = ['aircraft', 'operator', 'accident_count', 'total_fatalities']\n",
    "\n",
    "# Filter for meaningful data\n",
    "aircraft_operator_safety = aircraft_operator_safety[aircraft_operator_safety['accident_count'] >= 2]\n",
    "\n",
    "# Calculate safety score\n",
    "aircraft_operator_safety['safety_score'] = (\n",
    "    (1 / aircraft_operator_safety['accident_count']) * 0.6 +\n",
    "    (1 / (aircraft_operator_safety['total_fatalities'] + 0.1)) * 0.4\n",
    ")\n",
    "\n",
    "# Get top 5 safest combinations\n",
    "top_5_combinations = aircraft_operator_safety.nlargest(5, 'safety_score')\n",
    "\n",
    "# Create combination labels for the plot\n",
    "top_5_combinations['combination'] = top_5_combinations['aircraft'] + ' | ' + top_5_combinations['operator']\n",
    "\n",
    "# Simple version - just safety scores for top 5\n",
    "plt.figure(figsize=(10, 5))\n",
    "\n",
    "plt.barh(top_5_combinations['combination'], top_5_combinations['safety_score'], \n",
    "         color='lightblue', alpha=0.7, edgecolor='darkblue')\n",
    "\n",
    "plt.xlabel('Safety Score (Higher = Better)', fontweight='bold', fontsize=12)\n",
    "plt.title('Top 5 Safest Aircraft-Operator Combinations\\nBy Safety Score', \n",
    "          fontsize=14, fontweight='bold', pad=20)\n",
    "\n",
    "# Add value labels\n",
    "for i, score in enumerate(top_5_combinations['safety_score']):\n",
    "    plt.text(score + 0.01, i, f'{score:.3f}', \n",
    "             va='center', fontweight='bold', fontsize=10, color='darkblue')\n",
    "\n",
    "plt.gca().invert_yaxis()  # Highest score at top\n",
    "plt.grid(axis='x', alpha=0.3)\n",
    "plt.tight_layout()\n",
    "plt.show()\n",
    "\n",
    "# Print the top 5 results\n",
    "print(\"🏆 TOP 5 SAFEST AIRCRAFT-OPERATOR COMBINATIONS\")\n",
    "print(\"=\" * 70)\n",
    "for i, (idx, row) in enumerate(top_5_combinations.iterrows(), 1):\n",
    "    print(f\"{i}. {row['aircraft']} operated by {row['operator']}\")\n",
    "    print(f\"   • Accidents: {int(row['accident_count'])}\")\n",
    "    print(f\"   • Fatalities: {int(row['total_fatalities'])}\")\n",
    "    print(f\"   • Safety Score: {row['safety_score']:.3f}\")\n",
    "    print()"
   ]
  },
  {
   "cell_type": "markdown",
   "metadata": {},
   "source": [
    "It is also important to know what caused most of the accidents to help the company make informed decisions. Let's see the causes and the visualization."
   ]
  },
  {
   "cell_type": "code",
   "execution_count": 82,
   "metadata": {},
   "outputs": [
    {
     "data": {
      "image/png": "[encoded data removed]",
      "text/plain": [
       "<Figure size 720x432 with 1 Axes>"
      ]
     },
     "metadata": {
      "needs_background": "light"
     },
     "output_type": "display_data"
    },
    {
     "data": {
      "image/png": "[encoded data removed]",
      "text/plain": [
       "<Figure size 720x432 with 1 Axes>"
      ]
     },
     "metadata": {
      "needs_background": "light"
     },
     "output_type": "display_data"
    }
   ],
   "source": [
    "# Accident cause distribution\n",
    "cause_counts = df['cat'].value_counts()\n",
    "\n",
    "plt.figure(figsize=(10,6))\n",
    "plt.plot(cause_counts.index, cause_counts.values, color='skyblue')\n",
    "plt.xticks(rotation=45)\n",
    "plt.title(\"Distribution of Accident Causes\")\n",
    "plt.xlabel(\"Cause Category\")\n",
    "plt.ylabel(\"Number of Accidents\")\n",
    "plt.tight_layout()\n",
    "plt.show()\n",
    "\n",
    "# Fatalities by cause \n",
    "cause_fatalities = df.groupby('cat')['fatalities'].sum().sort_values(ascending=False)\n",
    "\n",
    "plt.figure(figsize=(10,6))\n",
    "plt.plot(cause_fatalities.index, cause_fatalities.values, color='salmon')\n",
    "plt.xticks(rotation=45)\n",
    "plt.title(\"Fatalities by Accident Cause\")\n",
    "plt.xlabel(\"Cause Category\")\n",
    "plt.ylabel(\"Total Fatalities\")\n",
    "plt.tight_layout()\n",
    "plt.show()"
   ]
  },
  {
   "cell_type": "markdown",
   "metadata": {},
   "source": [
    "Another good view of safety is fatalities per accident per operator:"
   ]
  },
  {
   "cell_type": "markdown",
   "metadata": {},
   "source": [
    "**Conclusion**\n",
    "\n",
    "-Some operators have recorded hundreds of accidents, reflecting long operational histories, however, not all operators with many accidents are necessarily unsafe.Also, certain smaller operators, despite fewer flights, appear with disproportionately high fatalities per accident, highlighting poor safety practices or aging fleets.\n",
    "\n",
    "-Large aircraft often have high average fatalities per accident, due to higher passenger capacity while smaller turboprops and commuter aircraft appear frequently in accidents, but with fewer fatalities per event.\n",
    "\n",
    "-By comparing fatalities per accident, some operators stand out with a worse-than-average record, often linked to older aircraft models with limited safety features and regions with less regulatory oversight.\n",
    "Equally, well-established international carriers generally show lower fatalities per accident, reflecting stronger safety protocols and modern fleets."
   ]
  },
  {
   "cell_type": "markdown",
   "metadata": {},
   "source": [
    "**Recommendation**\n",
    "\n",
    "1. Prioritize Modern, Proven Aircraft Types\n",
    "-This can be done by the company procuring aircraft models with lower average fatalities per accident and strong global safety records. Another way is avoiding reliance on older aircraft types that show consistently higher accident severity.\n",
    "\n",
    "2. Select Operators with Documented Safety Culture\n",
    "\n",
    "When the company is leasing or partnering, it should choose operators with a low fatalities-per-accident ratio and strong compliance with ICAO/FAA/EASA safety standards. It should exclude operators with high accident severity, especially those with histories of poor maintenance or weak oversight.\n",
    "\n",
    "3. Integrate Cause-Based Risk Mitigation\n",
    "\n",
    "The company should develop targeted safety protocols addressing the most common accident causes by enhancing pilot training and decision making to reduce human error, investment in predictive maintenance systems to minimize mechanical failures and adopt advanced weather monitoring and stricter operational go/no-go rules. These focuses on fleet safety and operational discipline ensures both hardware and human factors are covered."
   ]
  }
 ],
 "metadata": {
  "kernelspec": {
   "display_name": "Python (learn-env)",
   "language": "python",
   "name": "learn-env"
  },
  "language_info": {
   "codemirror_mode": {
    "name": "ipython",
    "version": 3
   },
   "file_extension": ".py",
   "mimetype": "text/x-python",
   "name": "python",
   "nbconvert_exporter": "python",
   "pygments_lexer": "ipython3",
   "version": "3.8.5"
  }
 },
 "nbformat": 4,
 "nbformat_minor": 4
}
